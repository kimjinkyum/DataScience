{
 "cells": [
  {
   "cell_type": "code",
   "execution_count": 1,
   "metadata": {},
   "outputs": [],
   "source": [
    "import random \n",
    "import numpy as np\n",
    "import pandas as pd\n",
    "import matplotlib.pyplot as plt\n",
    "from sklearn import linear_model\n"
   ]
  },
  {
   "cell_type": "code",
   "execution_count": 4,
   "metadata": {},
   "outputs": [],
   "source": [
    "data=pd.read_csv(\"../data/linear_regression_data.csv\")"
   ]
  },
  {
   "cell_type": "code",
   "execution_count": 5,
   "metadata": {},
   "outputs": [],
   "source": [
    "def splitRandom(origin):\n",
    "    list_all=np.arange(len(origin)).tolist()\n",
    "    # split data into 4/5 for training 1/5 for testing\n",
    "    count=int(len(data)*(4/5)) \n",
    "#randomly select amount of count in 0~ length of data(index of training) \n",
    "    list_training= random.sample(list_all, count)\n",
    "  #array store index of testing\n",
    "  \n",
    "    list_testing=[]\n",
    "    \n",
    " #test, training index are not duplicate\n",
    " \n",
    "    for i in range(len(list_all)):\n",
    "        for j in range(len(list_training)):\n",
    "            if i==list_training[j]:\n",
    "                break;\n",
    "            else:\n",
    "                if j==len(list_training)-1:\n",
    "                    list_testing.append(i)\n",
    "\n",
    "  #split data train, test using index\n",
    "  \n",
    "    data_training=pd.DataFrame({\"Index\":np.array([0]*len(list_training)),\n",
    "                                \"Distance\":np.array([0]*len(list_training)),\n",
    "                                \"Delivery Time\":np.array([0]*len(list_training))\n",
    "                                })\n",
    "    data_testing=pd.DataFrame({\"Index\":np.array([0]*len(list_testing)), \n",
    "                               \"Distance\":np.array([0]*len(list_testing)),\n",
    "                               \"Delivery Time\":np.array([0]*len(list_testing))\n",
    "                               })\n",
    "    \n",
    "    for i in range(len(list_training)):\n",
    "        data_training.iloc[i,0]=list_training[i]\n",
    "        data_training.iloc[i,1]=origin.iloc[list_training[i],0]\n",
    "        data_training.iloc[i,2]=origin.iloc[list_training[i],1]\n",
    "    \n",
    "    for i in range(len(list_testing)):\n",
    "        data_testing.iloc[i,0]=list_testing[i]\n",
    "        data_testing.iloc[i,1]=origin.iloc[list_testing[i],0]\n",
    "        data_testing.iloc[i,2]=origin.iloc[list_testing[i],1]\n",
    "    \n",
    "    \n",
    "    return data_training, data_testing    \n",
    "\n"
   ]
  },
  {
   "cell_type": "code",
   "execution_count": 6,
   "metadata": {},
   "outputs": [],
   "source": [
    "#data split to train, test, to call splitRandom function\n",
    "\n",
    "train,test=splitRandom(data) \n",
    "\n",
    "#convert list to numpy array\n",
    "array=train.to_numpy()\n",
    "array_test=test.to_numpy()\n",
    "\n",
    "#manage each of value of distance and deliver to nparray\n",
    "distance=array[:,1]\n",
    "deliver=array[:,2]\n"
   ]
  },
  {
   "cell_type": "code",
   "execution_count": 7,
   "metadata": {},
   "outputs": [
    {
     "name": "stdout",
     "output_type": "stream",
     "text": [
      "0    150\n",
      "1    130\n",
      "2    200\n",
      "3    100\n",
      "4    260\n",
      "5    180\n",
      "Name: Distance, dtype: int64\n"
     ]
    }
   ],
   "source": [
    "reg=linear_model.LinearRegression()# reg is object for linear regression\n",
    "reg.fit(distance[:,np.newaxis],deliver)#fit linear moedel\n",
    "\n",
    "px=np.array([distance.min()-1, distance.max()+1])#assign value of x\n",
    "py=reg.predict(px[:,np.newaxis])#predict using the linear model\n",
    "\n",
    "\n",
    "x=test.iloc[:,1]\n",
    "result_predict=reg.predict(x[:,np.newaxis])#predict value of test\n",
    "\n",
    "\n",
    "print(x)"
   ]
  },
  {
   "cell_type": "code",
   "execution_count": 8,
   "metadata": {},
   "outputs": [
    {
     "name": "stdout",
     "output_type": "stream",
     "text": [
      "Distance:  150 Predict delivery : 21.50331205919378 Original delivery data 20\n",
      "Distance:  130 Predict delivery : 19.546816849998077 Original delivery data 22\n",
      "Distance:  200 Predict delivery : 26.394550082183045 Original delivery data 24\n",
      "Distance:  100 Predict delivery : 16.61207403620452 Original delivery data 19\n",
      "Distance:  260 Predict delivery : 32.264035709770155 Original delivery data 34\n",
      "Distance:  180 Predict delivery : 24.43805487298734 Original delivery data 22\n",
      "RSS is 28.671798800072736\n"
     ]
    }
   ],
   "source": [
    "rss=0\n",
    "#print result and calculate rss\n",
    "\n",
    "for i in range(len(test)):\n",
    "    print(\"Distance: \",data.iloc[test.iloc[i,0],0], \n",
    "          \"Predict delivery :\",result_predict[i], \n",
    "          \"Original delivery data\", data.iloc[test.iloc[i,0],1])\n",
    "    rss=(data.iloc[test.iloc[i,0],1]-result_predict[i])*(data.iloc[test.iloc[i,0],1]-result_predict[i])+rss\n",
    "        \n",
    "print(\"RSS is\",rss)\n"
   ]
  },
  {
   "cell_type": "code",
   "execution_count": 9,
   "metadata": {},
   "outputs": [
    {
     "data": {
      "image/png": "[encoded data removed]",
      "text/plain": [
       "<Figure size 432x288 with 1 Axes>"
      ]
     },
     "metadata": {
      "needs_background": "light"
     },
     "output_type": "display_data"
    }
   ],
   "source": [
    "#plot a linear regression and scatter\n",
    "\n",
    "plt.plot(px,py,color=\"r\")\n",
    "plt.scatter(distance, deliver,color=\"b\")\n",
    "plt.xlabel(\"distance\")\n",
    "plt.ylabel(\"deliver\")\n",
    "plt.show()"
   ]
  },
  {
   "cell_type": "code",
   "execution_count": 10,
   "metadata": {},
   "outputs": [
    {
     "data": {
      "image/png": "[encoded data removed]",
      "text/plain": [
       "<Figure size 432x288 with 1 Axes>"
      ]
     },
     "metadata": {
      "needs_background": "light"
     },
     "output_type": "display_data"
    }
   ],
   "source": [
    "plt.scatter(data.iloc[:,0],data.iloc[:,1])\n",
    "plt.scatter(x,result_predict,color=\"g\")\n",
    "plt.show()"
   ]
  },
  {
   "cell_type": "code",
   "execution_count": 11,
   "metadata": {},
   "outputs": [
    {
     "name": "stdout",
     "output_type": "stream",
     "text": [
      "Distance:  400 Predict delivery : 45.9595021741401 Original delivery data 40\n",
      "Distance:  100 Predict delivery : 16.61207403620452 Original delivery data 15\n",
      "Distance:  390 Predict delivery : 44.981254569542244 Original delivery data 30\n",
      "Distance:  337 Predict delivery : 39.79654226517363 Original delivery data 50\n",
      "Distance:  150 Predict delivery : 21.50331205919378 Original delivery data 25\n",
      "Distance:  95 Predict delivery : 16.12295023390559 Original delivery data 20\n",
      "393.9213285297562\n"
     ]
    }
   ],
   "source": [
    "#test with another data\n",
    "#x1,y1 is test case\n",
    "x1=pd.Series([400,100,390,337,150,95])\n",
    "y1=pd.Series([40,15,30,50,25,20])\n",
    "\n",
    "##predict value of another test case (x1,y1)using the linear model\n",
    "result_predict_another=reg.predict(x1[:,np.newaxis])\n",
    "rss=0\n",
    "\n",
    "#print result and calculate rss\n",
    "for i in range(len(x1)):\n",
    "    print(\"Distance: \",x1[i], \n",
    "          \"Predict delivery :\",result_predict_another[i], \n",
    "          \"Original delivery data\", y1[i])\n",
    "    rss=rss+(y1[i]-result_predict_another[i])*(y1[i]-result_predict_another[i])\n",
    "print(rss)\n"
   ]
  },
  {
   "cell_type": "code",
   "execution_count": 12,
   "metadata": {},
   "outputs": [
    {
     "data": {
      "image/png": "[encoded data removed]",
      "text/plain": [
       "<Figure size 432x288 with 1 Axes>"
      ]
     },
     "metadata": {
      "needs_background": "light"
     },
     "output_type": "display_data"
    }
   ],
   "source": [
    "#plot a linear regression and scatter\n",
    "plt.title(\"Another test case\")\n",
    "plt.scatter(x1,y1)\n",
    "plt.scatter(x1,result_predict_another, color=\"g\")\n",
    "\n",
    "plt.show()"
   ]
  }
 ],
 "metadata": {
  "kernelspec": {
   "display_name": "Python 3",
   "language": "python",
   "name": "python3"
  },
  "language_info": {
   "codemirror_mode": {
    "name": "ipython",
    "version": 3
   },
   "file_extension": ".py",
   "mimetype": "text/x-python",
   "name": "python",
   "nbconvert_exporter": "python",
   "pygments_lexer": "ipython3",
   "version": "3.7.4"
  }
 },
 "nbformat": 4,
 "nbformat_minor": 2
}
