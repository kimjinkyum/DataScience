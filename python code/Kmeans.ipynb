{
 "cells": [
  {
   "cell_type": "code",
   "execution_count": 1,
   "metadata": {},
   "outputs": [],
   "source": [
    "import pandas as pd\n",
    "from sklearn import datasets\n",
    "import math"
   ]
  },
  {
   "cell_type": "code",
   "execution_count": 2,
   "metadata": {},
   "outputs": [],
   "source": [
    "\n",
    "#read original data\n",
    "iris = datasets.load_iris()  \n",
    "#label(categorical data)\n",
    "label = pd.DataFrame(iris.target,columns=[\"Species\"])  # labels of input data\n",
    "data = pd.DataFrame(iris.data,columns=[\"Sepal length\", \"Sepal width\", \"Petal length\", \"Petal width\"])  \n",
    "data=pd.concat([data,label],axis=1)\n"
   ]
  },
  {
   "cell_type": "code",
   "execution_count": 4,
   "metadata": {},
   "outputs": [],
   "source": [
    "\n",
    "#class of each dot\n",
    "class dot():\n",
    "    #initialize\n",
    "    def __init__(self):\n",
    "        self.index=None\n",
    "        self.sepalLength=None\n",
    "        self.sepalWidth=None\n",
    "        self.petalLength=None\n",
    "        self.petalWidth=None\n",
    "        self.cluster=None\n",
    "        self.label=None\n",
    "\n"
   ]
  },
  {
   "cell_type": "code",
   "execution_count": 5,
   "metadata": {},
   "outputs": [],
   "source": [
    "#class of each cluster\n",
    "class cluster():\n",
    "    #initialize\n",
    "    def __init__(self):\n",
    "        self.sepalLength=None\n",
    "        self.sepalWidth=None\n",
    "        self.petalLength=None\n",
    "        self.petalWidth=None\n",
    "        self.elements=[]\n",
    "        self.label=None\n"
   ]
  },
  {
   "cell_type": "code",
   "execution_count": 6,
   "metadata": {},
   "outputs": [],
   "source": [
    "#distance(temp1, temp2)\n",
    "#calculate uclid distance beteween temp1 and temp2        \n",
    "def Distance(temp1,temp2):\n",
    "    \n",
    "    temp=pow((temp1.sepalLength-temp2.sepalLength),2)+ pow((temp1.sepalWidth-temp2.sepalWidth),2)+ pow((temp1.petalLength-temp2.petalLength),2)+ pow((temp1.petalWidth-temp2.petalWidth),2)\n",
    "    return math.sqrt(temp)\n",
    "    #print(math.sqrt(diff*diff))"
   ]
  },
  {
   "cell_type": "code",
   "execution_count": 7,
   "metadata": {},
   "outputs": [],
   "source": [
    "#find nearset close cluster to dot.\n",
    "def closet(temp):\n",
    "    global cluster_all #global vairable\n",
    "    distance=[]#store distance beteween temp and each of cluster\n",
    "    \n",
    "    for i in range(3):\n",
    "        #Calculate distance by calling Distance function \n",
    "        distance.append(Distance(temp,cluster_all[i]))\n",
    "    #Find mininum distance and return it is index(==index of Cluster)\n",
    "    return distance.index(min(distance))"
   ]
  },
  {
   "cell_type": "code",
   "execution_count": 8,
   "metadata": {},
   "outputs": [],
   "source": [
    "#center(index)\n",
    "#recalculate center(mean)\n",
    "def center(index):\n",
    "    global cluster_all #global vairable\n",
    "    global dots_all #global vairable\n",
    "    size=len(cluster_all[index].elements)\n",
    "    a=0\n",
    "    b=0\n",
    "    c=0\n",
    "    d=0\n",
    "    #Calculate mean\n",
    "    for i in cluster_all[index].elements:\n",
    "       a=a+dots_all[i].sepalLength\n",
    "       b=b+dots_all[i].sepalWidth\n",
    "       c=c+dots_all[i].petalLength\n",
    "       d=d+dots_all[i].petalWidth\n",
    "    \n",
    "    #tehn cluster_center reassign with mean value\n",
    "    cluster_all[index].sepalLength=a/size\n",
    "    cluster_all[index].sepalWidth=b/size\n",
    "    cluster_all[index].petalLength=c/size\n",
    "    cluster_all[index].petalWidth=d/size\n"
   ]
  },
  {
   "cell_type": "code",
   "execution_count": 9,
   "metadata": {},
   "outputs": [],
   "source": [
    "#Voting and compare original and cluster label\n",
    "def voting(cluster_all,dots_all):\n",
    "    index=[] #store counting\n",
    "    for i in range(3):\n",
    "        count_all=[0,0,0]\n",
    "        for j in cluster_all[i].elements:\n",
    "            #count original label\n",
    "            if dots_all[j].label==0:\n",
    "                count_all[0]=count_all[0]+1\n",
    "            elif dots_all[j].label==1:\n",
    "                count_all[1]=count_all[1]+1\n",
    "            elif dots_all[j].label==2:\n",
    "                count_all[2]=count_all[2]+1\n",
    "        index.append(count_all.index(max(count_all)))\n",
    "    #return index(counting)\n",
    "    return index"
   ]
  },
  {
   "cell_type": "code",
   "execution_count": 10,
   "metadata": {},
   "outputs": [],
   "source": [
    "#list for All of dots, cluster\n",
    "dots_all=[]\n",
    "cluster_all=[]   \n",
    "\n",
    "#initialize dots_all \n",
    "for i in range(len(data)):\n",
    "    list_temp=dot()\n",
    "    list_temp.index=i\n",
    "    list_temp.sepalLength=data.iloc[i,0]\n",
    "    list_temp.sepalWidth=data.iloc[i,1]\n",
    "    list_temp.petalLength=data.iloc[i,2]\n",
    "    list_temp.petalWidth=data.iloc[i,3]\n",
    "    list_temp.label=data.iloc[i,4]\n",
    "    dots_all.append(list_temp)\n"
   ]
  },
  {
   "cell_type": "code",
   "execution_count": 11,
   "metadata": {},
   "outputs": [],
   "source": [
    "#initialize cluster_all \n",
    "for i in range(3):\n",
    "    list_temp = cluster()  \n",
    "    list_temp.sepalLength = dots_all[i].sepalLength\n",
    "    list_temp.sepalWidth = dots_all[i].sepalWidth\n",
    "    list_temp.petalLength = dots_all[i].petalLength\n",
    "    list_temp.petalWidth = dots_all[i].petalWidth\n",
    "    list_temp.elements.append(i)\n",
    "    dots_all[i].cluster = i\n",
    "    cluster_all.append(list_temp)        \n"
   ]
  },
  {
   "cell_type": "code",
   "execution_count": 12,
   "metadata": {},
   "outputs": [],
   "source": [
    "#First stage find evey daot closet cluster        \n",
    "for i in range(len(data)):\n",
    "    temp=closet(dots_all[i]) #find nearest cluster index by calling closet\n",
    "    if i==0 or i==1 or i==2: #0,1,2 is the already have cluster(0,1,2)\n",
    "        pass\n",
    "    else:\n",
    "        #Then change dot cluster, and add dot to cluster_element\n",
    "        dots_all[i].cluster=temp\n",
    "        cluster_all[temp].elements.append(i)\n",
    "        center(temp) #then recalculate center by calling center\n",
    "\n"
   ]
  },
  {
   "cell_type": "code",
   "execution_count": 13,
   "metadata": {},
   "outputs": [],
   "source": [
    "#Running K-means Algorithm until all dots find appropriate cluster            \n",
    "while True:\n",
    "    repeat=0 #it is repeat flag if repeat is 1 then we repeat, but repeat 0 it is exit\n",
    "    for i in range(len(data)):\n",
    "        cl=closet(dots_all[i]) #find nearest cluster index by calling closet\n",
    "       \n",
    "        #if already dots have appropriate cluster then do nothing\n",
    "        if cl==dots_all[i].cluster:\n",
    "            pass\n",
    "        # dots does not have appropriate cluster\n",
    "        #refind\n",
    "        else:\n",
    "            repeat=1\n",
    "            prev=dots_all[i].cluster\n",
    "            cluster_all[prev].elements.remove(i) #Preivous cluster remove this dot\n",
    "            cluster_all[cl].elements.append(i) #New cluster add this dot\n",
    "            dots_all[i].cluster=cl #Then reassign cluster of dot.\n",
    "            center(prev)#then recalculate center by calling center \n",
    "            center(cl)#then recalculate center by calling center\n",
    "    #exit\n",
    "    if repeat==0:\n",
    "        break;"
   ]
  },
  {
   "cell_type": "code",
   "execution_count": 14,
   "metadata": {},
   "outputs": [
    {
     "name": "stdout",
     "output_type": "stream",
     "text": [
      "Result\n",
      "\n",
      "Cluster 0\n",
      "[50, 51, 52, 53, 54, 55, 56, 58, 59, 61, 62, 63, 64, 65, 66, 67, 68, 69, 70, 71, 72, 73, 74, 75, 76, 77, 78, 79, 80, 81, 82, 83, 84, 85, 86, 87, 88, 89, 90, 91, 92, 94, 95, 96, 97, 99, 100, 101, 102, 103, 104, 105, 106, 107, 108, 109, 110, 111, 112, 113, 114, 115, 116, 117, 118, 119, 120, 121, 122, 123, 124, 125, 126, 127, 128, 129, 130, 131, 132, 133, 134, 135, 136, 137, 138, 139, 140, 141, 142, 143, 144, 145, 146, 147, 148, 149]\n",
      "\n",
      "Cluster 1\n",
      "[23, 26, 39, 43, 49, 0, 4, 5, 7, 10, 14, 15, 16, 17, 18, 19, 20, 21, 27, 28, 31, 32, 33, 36, 37, 40, 44, 46, 48, 22, 35, 11]\n",
      "\n",
      "Cluster 2\n",
      "[2, 3, 6, 8, 13, 38, 41, 42, 47, 12, 29, 30, 34, 45, 57, 93, 98, 1, 9, 24, 25, 60]\n"
     ]
    }
   ],
   "source": [
    "# we decide label by calling voting\n",
    "result_label=voting(cluster_all,dots_all)\n",
    "\n",
    "#Print Result\n",
    "print(\"Result\")\n",
    "for i in range(3):\n",
    "    print(\"\\nCluster {0}\".format(i))\n",
    "    print(cluster_all[i].elements)\n",
    "    cluster_all[i].label=result_label[i]\n"
   ]
  },
  {
   "cell_type": "code",
   "execution_count": 15,
   "metadata": {},
   "outputs": [
    {
     "name": "stdout",
     "output_type": "stream",
     "text": [
      "accuracy 0.6666666666666666\n"
     ]
    }
   ],
   "source": [
    "#Calculate Accuracy\n",
    "count=0\n",
    "for i in range(len(dots_all)):\n",
    "    if dots_all[i].label==cluster_all[dots_all[i].cluster].label:\n",
    "        count=count+1\n",
    "print(\"accuracy\", count/len(data))     "
   ]
  },
  {
   "cell_type": "code",
   "execution_count": null,
   "metadata": {},
   "outputs": [],
   "source": []
  }
 ],
 "metadata": {
  "kernelspec": {
   "display_name": "Python 3",
   "language": "python",
   "name": "python3"
  },
  "language_info": {
   "codemirror_mode": {
    "name": "ipython",
    "version": 3
   },
   "file_extension": ".py",
   "mimetype": "text/x-python",
   "name": "python",
   "nbconvert_exporter": "python",
   "pygments_lexer": "ipython3",
   "version": "3.7.4"
  }
 },
 "nbformat": 4,
 "nbformat_minor": 2
}
