{
 "cells": [
  {
   "cell_type": "code",
   "execution_count": 2,
   "metadata": {},
   "outputs": [],
   "source": [
    "import pandas as pd\n",
    "import numpy as np\n",
    "import warnings\n",
    "from IPython.core.display import Image\n",
    "from sklearn.tree import export_graphviz\n",
    "from sklearn.tree import DecisionTreeClassifier\n",
    "from sklearn import tree\n",
    "from sklearn.metrics import confusion_matrix\n",
    "from sklearn.metrics import classification_report\n",
    "warnings.filterwarnings(action=\"ignore\")\n",
    "\n"
   ]
  },
  {
   "cell_type": "code",
   "execution_count": 3,
   "metadata": {},
   "outputs": [],
   "source": [
    "#read Original data\n",
    "iris=pd.read_csv(\"../data/Iris.csv\",encoding=\"utf-8\")\n",
    "#label data\n",
    "labels=iris[\"Species\"]\n",
    "\n",
    "#make dataFrame store predict result\n",
    "samples=pd.DataFrame(index=np.arange(10),columns=np.arange(len(iris)));\n",
    "#store file_name\n",
    "file_name=[\"../data/Iris_bagging_dataset (1).csv\",\n",
    "           \"../data/Iris_bagging_dataset (2).csv\",\n",
    "           \"../data/Iris_bagging_dataset (3).csv\",\n",
    "           \"../data/Iris_bagging_dataset (4).csv\",\n",
    "           \"../data/Iris_bagging_dataset (5).csv\",\n",
    "           \"../data/Iris_bagging_dataset (6).csv\",\n",
    "           \"../data/Iris_bagging_dataset (7).csv\",\n",
    "           \"../data/Iris_bagging_dataset (8).csv\",\n",
    "           \"../data/Iris_bagging_dataset (9).csv\",\n",
    "           \"../data/Iris_bagging_dataset (10).csv\",]"
   ]
  },
  {
   "cell_type": "code",
   "execution_count": 4,
   "metadata": {},
   "outputs": [],
   "source": [
    "#Load bagging data and make decision tree\n",
    "def Load(i):\n",
    "    #read data\n",
    "    sample=pd.read_csv(file_name[i],encoding=\"utf-8\")\n",
    "    X=sample.iloc[:,1:5]\n",
    "    Y=sample.iloc[:,5]\n",
    "    #make decisionTree model using DecisionTreeClassifier(entropy) then learn with sample data\n",
    "    tree1=tree.DecisionTreeClassifier(criterion=\"entropy\",random_state=0,max_depth=1).fit(X,Y)\n",
    "    #label is predict original data\n",
    "    label=tree1.predict(iris.iloc[:,1:5])\n",
    "    \n",
    "    #store result into samples\n",
    "    for j in range(len(iris)):\n",
    "        samples.iat[i,j]=label[j]\n",
    "    "
   ]
  },
  {
   "cell_type": "code",
   "execution_count": 5,
   "metadata": {},
   "outputs": [],
   "source": [
    "#function count- return max index    \n",
    "def Count(column):\n",
    "    #elements, count is unique elements and value of count\n",
    "    elements,count=np.unique(column,return_counts=True)\n",
    "    max_value=count[0]\n",
    "    max_index=0\n",
    "    for i in range(3):\n",
    "        if max_value<count[i]:\n",
    "            max_value=count[i]\n",
    "            max_index=i\n",
    "    #reutn max elements        \n",
    "    return elements[max_index]\n",
    "\n"
   ]
  },
  {
   "cell_type": "code",
   "execution_count": 6,
   "metadata": {},
   "outputs": [],
   "source": [
    "#Voting it is determine what is final predict\n",
    "def Voting():\n",
    "    final_result=[]#store final_result(predict)\n",
    "    for i in range(150):\n",
    "        final_result.append(Count(samples.iloc[:,i]))\n",
    "    return final_result\n"
   ]
  },
  {
   "cell_type": "code",
   "execution_count": 7,
   "metadata": {},
   "outputs": [
    {
     "name": "stdout",
     "output_type": "stream",
     "text": [
      "[[50  0  0]\n",
      " [ 0 48  2]\n",
      " [ 0  5 45]]\n",
      "                 precision    recall  f1-score   support\n",
      "\n",
      "    Iris-setosa       1.00      1.00      1.00        50\n",
      "Iris-versicolor       0.91      0.96      0.93        50\n",
      " Iris-virginica       0.96      0.90      0.93        50\n",
      "\n",
      "       accuracy                           0.95       150\n",
      "      macro avg       0.95      0.95      0.95       150\n",
      "   weighted avg       0.95      0.95      0.95       150\n",
      "\n"
     ]
    }
   ],
   "source": [
    "#call fucntion\n",
    "for i in range(10):\n",
    "    Load(i)\n",
    "final_result=Voting()\n",
    "#confusion_matrix and caculate precision\n",
    "print(confusion_matrix(labels,final_result))\n",
    "print(classification_report(labels,final_result))\n"
   ]
  },
  {
   "cell_type": "code",
   "execution_count": null,
   "metadata": {},
   "outputs": [],
   "source": []
  }
 ],
 "metadata": {
  "kernelspec": {
   "display_name": "Python 3",
   "language": "python",
   "name": "python3"
  },
  "language_info": {
   "codemirror_mode": {
    "name": "ipython",
    "version": 3
   },
   "file_extension": ".py",
   "mimetype": "text/x-python",
   "name": "python",
   "nbconvert_exporter": "python",
   "pygments_lexer": "ipython3",
   "version": "3.7.4"
  }
 },
 "nbformat": 4,
 "nbformat_minor": 2
}
