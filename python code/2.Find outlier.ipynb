{
 "cells": [
  {
   "cell_type": "code",
   "execution_count": 1,
   "metadata": {},
   "outputs": [],
   "source": [
    "#Exercise: Problem 1 find outlier people in given dataset\n",
    "\n",
    "import numpy as np\n",
    "import pandas as pd\n",
    "import matplotlib.pyplot as plt\n",
    "from sklearn import linear_model\n",
    "from sklearn import preprocessing\n"
   ]
  },
  {
   "cell_type": "code",
   "execution_count": 17,
   "metadata": {
    "collapsed": true
   },
   "outputs": [
    {
     "name": "stdout",
     "output_type": "stream",
     "text": [
      "[['Female' 196 50 0]\n",
      " ['Male' 140 52 3]\n",
      " ['Female' 150 60 3]\n",
      " ['Female' 168 140 5]\n",
      " ['Female' 155 111 5]\n",
      " ['Female' 179 103 4]\n",
      " ['Female' 182 84 3]\n",
      " ['Male' 168 160 5]\n",
      " ['Female' 187 102 3]\n",
      " ['Male' 181 105 4]\n",
      " ['Male' 199 99 2]\n",
      " ['Female' 184 76 2]\n",
      " ['Male' 192 101 3]\n",
      " ['Female' 182 143 5]\n",
      " ['Female' 172 111 4]\n",
      " ['Male' 181 78 2]\n",
      " ['Male' 176 109 4]\n",
      " ['Female' 156 106 5]\n",
      " ['Female' 151 67 3]\n",
      " ['Female' 188 80 2]\n",
      " ['Male' 187 136 4]\n",
      " ['Male' 174 138 5]\n",
      " ['Male' 167 151 5]\n",
      " ['Female' 196 131 4]\n",
      " ['Male' 197 149 4]\n",
      " ['Female' 185 119 4]\n",
      " ['Female' 170 102 4]\n",
      " ['Female' 181 94 3]\n",
      " ['Female' 166 126 5]\n",
      " ['Male' 188 100 3]\n",
      " ['Female' 162 74 3]\n",
      " ['Male' 177 117 4]\n",
      " ['Male' 162 97 4]\n",
      " ['Male' 180 73 2]\n",
      " ['Female' 192 108 3]\n",
      " ['Male' 165 80 3]\n",
      " ['Female' 167 135 5]\n",
      " ['Female' 182 84 3]\n",
      " ['Female' 161 134 5]\n",
      " ['Male' 158 95 4]\n",
      " ['Male' 141 85 5]\n",
      " ['Male' 154 100 5]\n",
      " ['Male' 165 105 4]\n",
      " ['Female' 142 137 5]\n",
      " ['Male' 141 94 5]\n",
      " ['Male' 145 108 5]\n",
      " ['Male' 157 74 4]\n",
      " ['Female' 177 117 4]\n",
      " ['Female' 166 144 5]\n",
      " ['Male' 193 151 5]\n",
      " ['Male' 184 57 1]\n",
      " ['Male' 179 93 3]\n",
      " ['Female' 156 89 4]\n",
      " ['Male' 182 104 4]\n",
      " ['Male' 145 160 5]\n",
      " ['Female' 150 87 4]\n",
      " ['Male' 145 99 5]\n",
      " ['Female' 196 122 4]\n",
      " ['Male' 191 96 3]\n",
      " ['Female' 148 67 4]\n",
      " ['Female' 150 84 4]\n",
      " ['Male' 148 155 5]\n",
      " ['Female' 153 146 5]\n",
      " ['Female' 196 159 5]\n",
      " ['Female' 185 52 0]\n",
      " ['Female' 171 131 5]\n",
      " ['Female' 143 118 5]\n",
      " ['Female' 142 86 5]\n",
      " ['Female' 141 126 5]\n",
      " ['Male' 159 109 5]\n",
      " ['Female' 173 82 2]\n",
      " ['Male' 183 138 5]\n",
      " ['Female' 152 90 4]\n",
      " ['Male' 178 140 5]\n",
      " ['Male' 188 54 0]\n",
      " ['Female' 155 144 5]\n",
      " ['Male' 166 70 3]\n",
      " ['Male' 188 123 4]\n",
      " ['Female' 171 120 5]\n",
      " ['Male' 179 130 5]\n",
      " ['Female' 186 137 4]\n",
      " ['Female' 153 78 2]\n",
      " ['Female' 184 86 3]\n",
      " ['Female' 177 81 3]\n",
      " ['Male' 145 78 4]\n",
      " ['Male' 170 81 3]\n",
      " ['Male' 181 141 5]\n",
      " ['Male' 165 155 5]\n",
      " ['Female' 174 65 2]\n",
      " ['Female' 146 110 5]\n",
      " ['Male' 178 85 3]\n",
      " ['Male' 166 61 2]\n",
      " ['Male' 191 62 1]\n",
      " ['Female' 177 155 5]\n",
      " ['Female' 183 50 0]\n",
      " ['Male' 151 114 5]\n",
      " ['Male' 182 98 3]\n",
      " ['Female' 142 159 5]\n",
      " ['Female' 188 90 3]\n",
      " ['Male' 161 89 4]]\n"
     ]
    }
   ],
   "source": [
    "#D is original dataset readed in given dataset\n",
    "D=pd.read_excel(\"datapath\")\n",
    "\n",
    "\n",
    "#manage each of value of height and weight to nparray\n",
    "array=D.to_numpy()\n",
    "print(array)\n",
    "height=np.int64(array[:,1])\n",
    "weight=np.int64(array[:,2])"
   ]
  },
  {
   "cell_type": "code",
   "execution_count": 18,
   "metadata": {},
   "outputs": [
    {
     "data": {
      "image/png": "[encoded data removed]",
      "text/plain": [
       "<Figure size 432x288 with 1 Axes>"
      ]
     },
     "metadata": {
      "needs_background": "light"
     },
     "output_type": "display_data"
    }
   ],
   "source": [
    "\"\"\"All gender\"\"\"\n",
    "\n",
    "#compute linear regression equation E for the input dataset D\n",
    "reg=linear_model.LinearRegression() # reg is object for linear regression\n",
    "reg.fit(height[:,np.newaxis],weight)#fit lieanr moedel\n",
    "\n",
    "px=np.array([height.min()-1, height.max()+1])#asign value of x\n",
    "py=reg.predict(px[:,np.newaxis])#predict using the linear model\n",
    "\n",
    "\n",
    "#plot a linear regression and scatter\n",
    "plt.scatter(height, weight)\n",
    "plt.title(\"All\")\n",
    "plt.xlabel(\"Height\")\n",
    "plt.ylabel(\"Weight\")\n",
    "plt.plot(px,py,color=\"r\")\n",
    "plt.show()\n"
   ]
  },
  {
   "cell_type": "code",
   "execution_count": 19,
   "metadata": {},
   "outputs": [
    {
     "data": {
      "image/png": "[encoded data removed]",
      "text/plain": [
       "<Figure size 432x288 with 1 Axes>"
      ]
     },
     "metadata": {
      "needs_background": "light"
     },
     "output_type": "display_data"
    }
   ],
   "source": [
    "e=weight-reg.predict(height[:,np.newaxis])#compute e: w(original)-w'(predict value) e use to normalize\n",
    "z_e=preprocessing.scale(e)#Noramlize the e values\n",
    "\n",
    "#plot a histogram the distribution of z_e (10bins)\n",
    "plt.hist(z_e, bins=10)\n",
    "plt.title(\"all\")\n",
    "plt.show()"
   ]
  },
  {
   "cell_type": "code",
   "execution_count": 20,
   "metadata": {},
   "outputs": [],
   "source": [
    "new_BMI=np.empty(len(weight))#make empty array to use put value of new BMI\n",
    "\n",
    "a=1.7\n"
   ]
  },
  {
   "cell_type": "code",
   "execution_count": 23,
   "metadata": {},
   "outputs": [],
   "source": [
    "#predict(decide) value of BMI\n",
    "for i in range(len(z_e)):\n",
    "    if(z_e[i]<-a):\n",
    "        new_BMI[i]=0\n",
    "    elif(z_e[i]>a):\n",
    "        new_BMI[i]=5\n",
    "    else:\n",
    "        new_BMI[i]=np.nan # find outliers"
   ]
  },
  {
   "cell_type": "code",
   "execution_count": 24,
   "metadata": {},
   "outputs": [
    {
     "name": "stdout",
     "output_type": "stream",
     "text": [
      "nan is outliers\n",
      "\n",
      "a is 1.7 then all gender group\n",
      "\n",
      "[ 0.  0. nan nan nan nan nan  5. nan nan nan nan nan nan nan nan nan nan\n",
      " nan nan nan nan nan nan nan nan nan nan nan nan nan nan nan nan nan nan\n",
      " nan nan nan nan nan nan nan nan nan nan nan nan nan nan nan nan nan nan\n",
      "  5. nan nan nan nan nan nan nan nan  5.  0. nan nan nan nan nan nan nan\n",
      " nan nan  0. nan nan nan nan nan nan nan nan nan nan nan nan nan nan nan\n",
      " nan nan nan nan  0. nan nan  5. nan nan]\n"
     ]
    }
   ],
   "source": [
    "print(\"nan is outliers\\n\")\n",
    "print(\"a is 1.7 then all gender group\\n\")\n",
    "print(new_BMI)"
   ]
  },
  {
   "cell_type": "code",
   "execution_count": 27,
   "metadata": {},
   "outputs": [],
   "source": [
    "#define value for group(gender) and height,weight\n",
    "array_female_height=[]\n",
    "array_female_weight=[]\n",
    "array_male_height=[]\n",
    "array_male_weight=[]\n",
    "\n",
    "#divide the entire data to group(male, female)\n",
    "for i in range(len(array)):\n",
    "    if(array[i][0]==\"Female\"):# if the gender is female\n",
    "        array_female_height.append(array[i][1])#append height to array_female_height\n",
    "        array_female_weight.append(array[i][2])#append weight to array_female_weight\n",
    "    else:\n",
    "        array_male_height.append(array[i][1])#append height to array_male_height\n",
    "        array_male_weight.append(array[i][2])#append weight to array_male_weight\n",
    "\n"
   ]
  },
  {
   "cell_type": "code",
   "execution_count": 28,
   "metadata": {},
   "outputs": [
    {
     "data": {
      "image/png": "[encoded data removed]",
      "text/plain": [
       "<Figure size 432x288 with 1 Axes>"
      ]
     },
     "metadata": {
      "needs_background": "light"
     },
     "output_type": "display_data"
    }
   ],
   "source": [
    "\"\"\"Female\"\"\"\n",
    "array_female_height=weight=np.int64(array_female_height)\n",
    "array_female_weight=weight=np.int64(array_female_weight)\n",
    "#compute linear regression equation E for the input dataset D ony female data\n",
    "\n",
    "reg_female=linear_model.LinearRegression() # reg is object for linear regression\n",
    "reg_female.fit(array_female_height[:,np.newaxis],array_female_weight)#fit lieanr moedel\n",
    "\n",
    "px_female=np.array([array_female_height.min()-1, array_female_height.max()+1])#asign value of x\n",
    "py_female=reg_female.predict(px_female[:,np.newaxis])#predict using the linear model\n",
    "\n",
    "\n",
    "#plot a linear regression and scatter\n",
    "plt.scatter(array_female_height, array_female_weight)\n",
    "plt.title(\"Female\")\n",
    "plt.xlabel(\"Height\")\n",
    "plt.ylabel(\"Weight\")\n",
    "plt.plot(px_female,py_female,color=\"r\")\n",
    "plt.show()"
   ]
  },
  {
   "cell_type": "code",
   "execution_count": 29,
   "metadata": {},
   "outputs": [
    {
     "data": {
      "image/png": "[encoded data removed]",
      "text/plain": [
       "<Figure size 432x288 with 1 Axes>"
      ]
     },
     "metadata": {
      "needs_background": "light"
     },
     "output_type": "display_data"
    }
   ],
   "source": [
    "#compute e: w(original)-w'(predict value) e use to normalize\n",
    "e_female=array_female_weight-reg_female.predict(array_female_height[:,np.newaxis])\n",
    "z_e_female=preprocessing.scale(e_female)#Noramlize the e values\n",
    "\n",
    "#plot a histogram the distribution of z_e (10bins)\n",
    "plt.hist(z_e_female, bins=10)\n",
    "plt.title(\"Female\")\n",
    "plt.show()"
   ]
  },
  {
   "cell_type": "code",
   "execution_count": 30,
   "metadata": {},
   "outputs": [
    {
     "name": "stdout",
     "output_type": "stream",
     "text": [
      "[ 0. nan nan nan nan nan nan nan nan nan nan nan nan nan nan nan nan nan\n",
      " nan nan nan nan nan nan nan nan nan nan nan nan nan nan  5.  0. nan nan\n",
      " nan nan nan nan nan nan nan nan nan nan nan nan  5.  0.  5. nan]\n"
     ]
    }
   ],
   "source": [
    "new_BMI_female=np.empty(len(array_female_weight))#make empty array to use put value of new BMI\n",
    "\n",
    "#predict(decide) value of BMI\n",
    "for i in range(len(z_e_female)):\n",
    "    if(z_e_female[i]<-a):\n",
    "        new_BMI_female[i]=0\n",
    "    elif(z_e_female[i]>a):\n",
    "        new_BMI_female[i]=5\n",
    "    else:\n",
    "        new_BMI_female[i]=np.nan # find outliers\n",
    "\n",
    "print(new_BMI_female)"
   ]
  },
  {
   "cell_type": "code",
   "execution_count": 32,
   "metadata": {
    "scrolled": true
   },
   "outputs": [
    {
     "data": {
      "image/png": "[encoded data removed]",
      "text/plain": [
       "<Figure size 432x288 with 1 Axes>"
      ]
     },
     "metadata": {
      "needs_background": "light"
     },
     "output_type": "display_data"
    }
   ],
   "source": [
    "#compute linear regression equation E for the input dataset D ony male data\n",
    "array_male_height=weight=np.int64(array_male_height)\n",
    "array_male_weight=weight=np.int64(array_male_weight)\n",
    "\n",
    "reg_male=linear_model.LinearRegression() # reg is object for linear regression\n",
    "reg_male.fit(array_male_height[:,np.newaxis],array_male_weight)#fit lieanr moedel\n",
    "\n",
    "px_male=np.array([array_male_height.min()-1, array_male_height.max()+1])#asign value of x\n",
    "py_male=reg_male.predict(px_male[:,np.newaxis])#predict using the linear model\n",
    "\n",
    "\n",
    "#plot a linear regression and scatter\n",
    "plt.scatter(array_male_height, array_male_weight)\n",
    "plt.title(\"Male\")\n",
    "plt.xlabel(\"Height\")\n",
    "plt.ylabel(\"Weight\")\n",
    "plt.plot(px_male,py_male,color=\"r\")\n",
    "plt.show()\n"
   ]
  },
  {
   "cell_type": "code",
   "execution_count": 34,
   "metadata": {},
   "outputs": [
    {
     "data": {
      "image/png": "[encoded data removed]",
      "text/plain": [
       "<Figure size 432x288 with 1 Axes>"
      ]
     },
     "metadata": {
      "needs_background": "light"
     },
     "output_type": "display_data"
    }
   ],
   "source": [
    "#compute e: w(original)-w'(predict value) e use to normalize\n",
    "e_male=array_male_weight-reg_male.predict(array_male_height[:,np.newaxis])\n",
    "z_e_male=preprocessing.scale(e_male)#Noramlize the e values\n",
    "\n",
    "#plot a histogram the distribution of z_e (10bins)\n",
    "plt.hist(z_e_male, bins=10)\n",
    "plt.title(\"Male\")\n",
    "plt.show()"
   ]
  },
  {
   "cell_type": "code",
   "execution_count": 35,
   "metadata": {},
   "outputs": [
    {
     "name": "stdout",
     "output_type": "stream",
     "text": [
      "[nan  5. nan nan nan nan nan nan nan nan nan nan nan nan nan nan nan nan\n",
      " nan nan nan nan nan nan nan nan nan  5. nan nan  5. nan nan nan  0. nan\n",
      " nan nan nan nan nan nan nan nan nan nan nan nan]\n"
     ]
    }
   ],
   "source": [
    "new_BMI_male=np.empty(len(array_male_weight))#make empty array to use put value of new BMI\n",
    "\n",
    "#predict(decide) value of BMI\n",
    "for i in range(len(z_e_male)):\n",
    "    if(z_e_male[i]<-a):\n",
    "        new_BMI_male[i]=0\n",
    "    elif(z_e_male[i]>a):\n",
    "        new_BMI_male[i]=5\n",
    "    else:\n",
    "        new_BMI_male[i]=np.nan # find outliers\n",
    "\n",
    "print(new_BMI_male)\n"
   ]
  }
 ],
 "metadata": {
  "kernelspec": {
   "display_name": "Python 3",
   "language": "python",
   "name": "python3"
  },
  "language_info": {
   "codemirror_mode": {
    "name": "ipython",
    "version": 3
   },
   "file_extension": ".py",
   "mimetype": "text/x-python",
   "name": "python",
   "nbconvert_exporter": "python",
   "pygments_lexer": "ipython3",
   "version": "3.7.4"
  }
 },
 "nbformat": 4,
 "nbformat_minor": 2
}
