{
 "cells": [
  {
   "cell_type": "code",
   "execution_count": 1,
   "metadata": {},
   "outputs": [
    {
     "name": "stdout",
     "output_type": "stream",
     "text": [
      "9876543210"
     ]
    }
   ],
   "source": [
    "class Stack:\n",
    "    def __init__(self):\n",
    "        self.__elements=[]\n",
    "    def isEmpty(self):\n",
    "        return len(self.__elements)==0\n",
    "        \n",
    "    def  peek(self):\n",
    "        if(self.isEmpty()):\n",
    "            return None\n",
    "        else:\n",
    "            return self.__elements[len(elements)-1]\n",
    "    \n",
    "    def push(self,value):\n",
    "        self.__elements.append(value)\n",
    "\n",
    "    def pop(self):\n",
    "        if self.isEmpty():\n",
    "            return None\n",
    "        else:\n",
    "            return self.__elements.pop()\n",
    "        \n",
    "stack=Stack()\n",
    "\n",
    "for i in range(10):\n",
    "    stack.push(i)\n",
    "\n",
    "while not stack.isEmpty():\n",
    "    print(stack.pop(), end=\"\")\n"
   ]
  },
  {
   "cell_type": "code",
   "execution_count": 2,
   "metadata": {},
   "outputs": [
    {
     "name": "stdout",
     "output_type": "stream",
     "text": [
      "enter5\n",
      "31.41592653589793\n",
      "78.53981633974483\n"
     ]
    }
   ],
   "source": [
    "import math\n",
    "class Circle:\n",
    "       \n",
    "    def __init__(self,radius):\n",
    "        self.radius=radius\n",
    "    def cCircumf(self):\n",
    "        return 2*math.pi*self.radius\n",
    "    def cArea(self):\n",
    "        return math.pi*self.radius*self.radius\n",
    "\n",
    "r=int(input(\"enter\"))\n",
    "\n",
    "c=Circle(r)\n",
    "\n",
    "print(c.cCircumf())\n",
    "print(c.cArea())"
   ]
  },
  {
   "cell_type": "code",
   "execution_count": 3,
   "metadata": {},
   "outputs": [
    {
     "name": "stdout",
     "output_type": "stream",
     "text": [
      "Add 101\n",
      "Sub 99\n",
      "mul 10000\n",
      "div 1.0\n",
      "Add 101\n",
      "Sub 99\n",
      "mul 10000\n",
      "div 1.0\n"
     ]
    }
   ],
   "source": [
    "import operator as test\n",
    "i=100\n",
    "\n",
    "print(\"Add\",test.add(i,1))\n",
    "print(\"Sub\",test.sub(i,1))\n",
    "print(\"mul\",test.mul(i,100))\n",
    "print(\"div\",test.truediv(i,100))\n",
    "\n",
    "\n",
    "print(\"Add\",i.__add__(1))\n",
    "print(\"Sub\",i.__sub__(1))\n",
    "print(\"mul\",i.__mul__(100))\n",
    "print(\"div\",i.__truediv__(100))"
   ]
  }
 ],
 "metadata": {
  "kernelspec": {
   "display_name": "Python 3",
   "language": "python",
   "name": "python3"
  },
  "language_info": {
   "codemirror_mode": {
    "name": "ipython",
    "version": 3
   },
   "file_extension": ".py",
   "mimetype": "text/x-python",
   "name": "python",
   "nbconvert_exporter": "python",
   "pygments_lexer": "ipython3",
   "version": "3.7.4"
  }
 },
 "nbformat": 4,
 "nbformat_minor": 2
}
