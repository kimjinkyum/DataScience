{
 "cells": [
  {
   "cell_type": "code",
   "execution_count": 6,
   "metadata": {},
   "outputs": [
    {
     "name": "stdout",
     "output_type": "stream",
     "text": [
      "Enter number:12\n",
      "The number of digits in the number is  2\n"
     ]
    }
   ],
   "source": [
    "#Write a program to count the number of digits in a number.\n",
    "n=int(input(\"Enter number:\" ))\n",
    "count=0\n",
    "while n>0:\n",
    "    count=count+1\n",
    "    n//=10\n",
    "print(\"The number of digits in the number is \" , count)"
   ]
  },
  {
   "cell_type": "code",
   "execution_count": 7,
   "metadata": {},
   "outputs": [
    {
     "name": "stdout",
     "output_type": "stream",
     "text": [
      "Enter a number:3\n",
      "The factorial of 3 is  6\n"
     ]
    }
   ],
   "source": [
    "#Find the factorial of a number.\n",
    "num= int(input(\"Enter a number:\"))\n",
    "\n",
    "fat=1\n",
    "for i in range(1, num+1):\n",
    "    fat*=i\n",
    "print(\"The factorial of\",num,\"is \", fat)\n"
   ]
  },
  {
   "cell_type": "code",
   "execution_count": 8,
   "metadata": {},
   "outputs": [
    {
     "name": "stdout",
     "output_type": "stream",
     "text": [
      "Enter a number: 18\n",
      "The sum of the digits is : 9\n"
     ]
    }
   ],
   "source": [
    "#Write a program to find the sum of the digits in a number. \n",
    "n=int(input(\"Enter a number: \"))\n",
    "\n",
    "sum=0;\n",
    "while n>0:\n",
    "    digit=n%10\n",
    "    sum+=digit\n",
    "    n//=10\n",
    "\n",
    "print(\"The sum of the digits is :\",sum)\n"
   ]
  },
  {
   "cell_type": "code",
   "execution_count": 9,
   "metadata": {},
   "outputs": [
    {
     "name": "stdout",
     "output_type": "stream",
     "text": [
      "Enter a number: 123\n",
      "3\n",
      "2\n",
      "1\n",
      "Reverse of the number :  321\n"
     ]
    }
   ],
   "source": [
    "#Write a program to reverse a given number\n",
    "number=int(input(\"Enter a number: \"))\n",
    "Re=0;\n",
    "while number>0:\n",
    "    div=number%10\n",
    "    print(div)\n",
    "    Re=(Re*10)+div\n",
    "    number//=10\n",
    "    \n",
    "print(\"Reverse of the number : \", Re)\n"
   ]
  },
  {
   "cell_type": "code",
   "execution_count": 3,
   "metadata": {},
   "outputs": [
    {
     "name": "stdout",
     "output_type": "stream",
     "text": [
      "Enter a number12\n",
      "100000000000\n",
      "010000000000\n",
      "001000000000\n",
      "000100000000\n",
      "000010000000\n",
      "000001000000\n",
      "000000100000\n",
      "000000010000\n",
      "000000001000\n",
      "000000000100\n",
      "000000000010\n",
      "000000000001\n"
     ]
    }
   ],
   "source": [
    "#Write a program to print an identity matrix.\n",
    "n= int(input(\"Enter a number\"))\n",
    "\n",
    "for i in range(0,n):\n",
    "    for j in range(0,n):\n",
    "        if i==j:\n",
    "            print(\"1\" ,end=\"\")\n",
    "        else:\n",
    "            print(\"0\", end=\"\")\n",
    "    print(\"\")\n"
   ]
  },
  {
   "cell_type": "code",
   "execution_count": 10,
   "metadata": {},
   "outputs": [
    {
     "name": "stdout",
     "output_type": "stream",
     "text": [
      "*****\n",
      "****\n",
      "***\n",
      "**\n",
      "*\n"
     ]
    }
   ],
   "source": [
    "#Display an inverted half pyramid using *(star) patterns. \n",
    "for i in range(5,0,-1):\n",
    "    for j in range(0,i):\n",
    "        print(\"*\",end=\"\") \n",
    "    print(\"\")\n"
   ]
  },
  {
   "cell_type": "code",
   "execution_count": 4,
   "metadata": {},
   "outputs": [
    {
     "name": "stdout",
     "output_type": "stream",
     "text": [
      "Enter a last number: 6\n",
      "1\n",
      "21\n",
      "321\n",
      "4321\n",
      "54321\n",
      "654321\n"
     ]
    }
   ],
   "source": [
    "#Compute a number pattern using a for loop.\n",
    "n=int(input(\"Enter a last number: \"))\n",
    "\n",
    "for i in range(0,n):\n",
    "    for j in range(i+1,0,-1):\n",
    "        print(j, end=\"\")\n",
    "    print(\"\")"
   ]
  },
  {
   "cell_type": "code",
   "execution_count": 5,
   "metadata": {},
   "outputs": [
    {
     "name": "stdout",
     "output_type": "stream",
     "text": [
      "Enter the Low value: 4\n",
      "Enter the High value: 9\n",
      "5 7 "
     ]
    }
   ],
   "source": [
    "#Write a program that finds prime numbers between two integers.\n",
    "a=int(input(\"Enter the Low value: \"))\n",
    "b=int(input(\"Enter the High value: \"))\n",
    "\n",
    "for i in range(a,b+1):\n",
    "    count=0\n",
    "    for j in range(2, (i//2+1)):\n",
    "        if i% j==0:\n",
    "            count=count+1\n",
    "            break;\n",
    "    if count==0 and i!=1:\n",
    "        print(i, end=\" \")"
   ]
  },
  {
   "cell_type": "code",
   "execution_count": 11,
   "metadata": {},
   "outputs": [
    {
     "name": "stdout",
     "output_type": "stream",
     "text": [
      "Enter the lower limit for the range: 35\n",
      "Enter the upper limit for the range: 64\n",
      "35\n",
      "37\n",
      "39\n",
      "41\n",
      "43\n",
      "45\n",
      "47\n",
      "49\n",
      "51\n",
      "53\n",
      "55\n",
      "57\n",
      "59\n",
      "61\n",
      "63\n"
     ]
    }
   ],
   "source": [
    "#Write a program to print odd numbers within a given range.\n",
    "\n",
    "lower= int(input(\"Enter the lower limit for the range: \"))\n",
    "upper=int(input(\"Enter the upper limit for the range: \"))\n",
    "\n",
    "for i in range(lower, upper+1):\n",
    "    if i%2:\n",
    "        print(i)"
   ]
  },
  {
   "cell_type": "code",
   "execution_count": 12,
   "metadata": {},
   "outputs": [
    {
     "name": "stdout",
     "output_type": "stream",
     "text": [
      "Enter the first value :15\n",
      "Enter the Second value:32\n",
      "LCM of 15 of 32=480\n"
     ]
    }
   ],
   "source": [
    "#Write a program to find the LCM (least common multiple) of two numbers\n",
    "a=int(input(\"Enter the first value :\"))\n",
    "b=int (input(\"Enter the Second value:\"))\n",
    "\n",
    "if a>b:\n",
    "    max= a\n",
    "else:\n",
    "    max=b\n",
    "\n",
    "while True:\n",
    "    if max%a==0 and max%b==0:\n",
    "        print(\"LCM of {0} of {1}={2}\".format(a,b,max))\n",
    "        break;\n",
    "    max=max+1"
   ]
  }
 ],
 "metadata": {
  "kernelspec": {
   "display_name": "Python 3",
   "language": "python",
   "name": "python3"
  },
  "language_info": {
   "codemirror_mode": {
    "name": "ipython",
    "version": 3
   },
   "file_extension": ".py",
   "mimetype": "text/x-python",
   "name": "python",
   "nbconvert_exporter": "python",
   "pygments_lexer": "ipython3",
   "version": "3.7.4"
  }
 },
 "nbformat": 4,
 "nbformat_minor": 2
}
