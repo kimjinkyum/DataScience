{
 "cells": [
  {
   "cell_type": "code",
   "execution_count": 1,
   "metadata": {},
   "outputs": [
    {
     "name": "stdout",
     "output_type": "stream",
     "text": [
      "1.Choose the Chinese capital? /1)Qingtao/2)Shanghai/3)Guangzhou/4)Beijing/41\n",
      "4\n",
      "2.Choose the capital of India. /1)Shraz/2)Isfahan/3)New Delhi/4)Marshaad/33\n",
      "3\n",
      "3.Choose the capital of Thailand. /1)Khonkaen/2)Bangkok/3)Hatyai/4)Lampang/22\n",
      "2\n",
      "4.Choose the capital of Egypt./1)Cairo/2)Alexandria/3)Hurghada/4)Luxor/14\n",
      "1\n",
      "5.Choose the capital of Canada./1)Toronto/2)Ottawa/3)Victoria/4)Dawson/25\n",
      "2\n",
      "Total Score 40\n"
     ]
    }
   ],
   "source": [
    "quiz=[]\n",
    "quiz.append(\"1.Choose the Chinese capital? /1)Qingtao/2)Shanghai/3)Guangzhou/4)Beijing/4\")\n",
    "quiz.append(\"2.Choose the capital of India. /1)Shraz/2)Isfahan/3)New Delhi/4)Marshaad/3\")\n",
    "quiz.append(\"3.Choose the capital of Thailand. /1)Khonkaen/2)Bangkok/3)Hatyai/4)Lampang/2\")\n",
    "quiz.append(\"4.Choose the capital of Egypt./1)Cairo/2)Alexandria/3)Hurghada/4)Luxor/1\")\n",
    "quiz.append(\"5.Choose the capital of Canada./1)Toronto/2)Ottawa/3)Victoria/4)Dawson/2\")\n",
    "\n",
    "total=0\n",
    "\n",
    "for i in range(1,6):\n",
    "    an=(input(quiz[i-1]))\n",
    "    sp=quiz[i-1].split(\"/\")\n",
    "    print(sp[-1])\n",
    "    if an==sp[-1]:\n",
    "        total=total+20\n",
    "\n",
    "print(\"Total Score\",total)\n",
    "\n"
   ]
  },
  {
   "cell_type": "code",
   "execution_count": 3,
   "metadata": {},
   "outputs": [
    {
     "name": "stdout",
     "output_type": "stream",
     "text": [
      "original list ['apple', [7, 5, 6], (1, 2, 3)]\n",
      "converted ('apple', [7, 5, 6], (1, 2, 3))\n",
      "tu2[1][1] result ('apple', [7, 20, 6], (1, 2, 3))\n",
      "('apple', [7, 20, 27], (1, 2, 3))\n"
     ]
    }
   ],
   "source": [
    "tu=(\"apple\", [7,5,6],(1,2,3))\n",
    "\n",
    "li=list(tu)\n",
    "\n",
    "print(\"original list\" , li)\n",
    "\n",
    "\n",
    "t2=tuple(li)\n",
    "\n",
    "print(\"converted\", t2)\n",
    "t2[1][1]=20\n",
    "\n",
    "print(\"tu2[1][1] result\",t2)\n",
    "\n",
    "t2[1][2]=sum(t2[1][0:2])\n",
    "\n",
    "print(t2)\n",
    "\n"
   ]
  },
  {
   "cell_type": "code",
   "execution_count": 7,
   "metadata": {},
   "outputs": [
    {
     "name": "stdout",
     "output_type": "stream",
     "text": [
      "Enter your namealice\n",
      "alice please vote!\n",
      "Enter your namerosa\n",
      "rosa already voted!\n",
      "Enter your namejohn\n",
      "john already voted!\n",
      "Enter your named\n",
      "none\n",
      "{'john': 'True', 'alice': 'False', 'rosa': 'True'}\n"
     ]
    }
   ],
   "source": [
    "\n",
    "voted={'john':'True', 'alice':'False', 'rosa':'True'}\n",
    "while True:\n",
    "    name=input(\"Enter your name\")\n",
    "    if name==\"\":\n",
    "        break;\n",
    "\n",
    "    if voted.get(name)==\"True\":\n",
    "        print(name,\"already voted!\")\n",
    "    elif voted.get(name)==\"False\":\n",
    "        print(name,\"please vote!\")\n",
    "        voted[name]==\"True\"\n",
    "    else:\n",
    "        print(\"none\")\n",
    "        print(voted)\n",
    "        break;"
   ]
  },
  {
   "cell_type": "code",
   "execution_count": 8,
   "metadata": {},
   "outputs": [
    {
     "name": "stdout",
     "output_type": "stream",
     "text": [
      "Please Enter a number5\n",
      "Pease a enter a number7\n",
      "{1, 5}\n",
      "{1, 7}\n",
      "Common factor: {1}\n"
     ]
    }
   ],
   "source": [
    "n1= int(input(\"Please Enter a number\"))\n",
    "n2= int(input(\"Pease a enter a number\"))\n",
    "\n",
    "aset=set()\n",
    "bset=set()\n",
    "for i in range(1,n1+1):\n",
    "    if n1%i==0:\n",
    "        aset.add(i)\n",
    "\n",
    "for i in range(1,n2+1):\n",
    "    if n2%i==0:\n",
    "        bset.add(i)\n",
    "\n",
    "print(aset)\n",
    "print(bset)\n",
    "print(\"Common factor:\",set.intersection(aset,bset))\n"
   ]
  },
  {
   "cell_type": "code",
   "execution_count": 9,
   "metadata": {},
   "outputs": [
    {
     "name": "stdout",
     "output_type": "stream",
     "text": [
      "No.1 your score is 57, fail!\n",
      "No.2 your score is 99, pass!\n",
      "No.3 your score is 78, pass!\n",
      "No.4 your score is 85, pass!\n",
      "No.5 your score is 60, fail!\n"
     ]
    }
   ],
   "source": [
    "test=[57,99,78,85,60]\n",
    "\n",
    "for i ,n in enumerate(test):\n",
    "    if n>=70:\n",
    "        print(\"No.{0} your score is {1}, pass!\".format(i+1,test[i]))\n",
    "    else:\n",
    "        print(\"No.{0} your score is {1}, fail!\".format(i+1,test[i]))\n"
   ]
  },
  {
   "cell_type": "code",
   "execution_count": 10,
   "metadata": {},
   "outputs": [
    {
     "name": "stdout",
     "output_type": "stream",
     "text": [
      "begin123end"
     ]
    }
   ],
   "source": [
    "s=[1,2,3]\n",
    "t=[\"begin\",s,\"end\"]\n",
    "\n",
    "for i in range(len(t)):\n",
    "    for j in range (len (t[i])):\n",
    "        print(t[i][j],end=\"\")\n"
   ]
  },
  {
   "cell_type": "code",
   "execution_count": 11,
   "metadata": {},
   "outputs": [
    {
     "name": "stdout",
     "output_type": "stream",
     "text": [
      "76.2\n"
     ]
    }
   ],
   "source": [
    "test=[75,90,66,100,50]\n",
    "\n",
    "print(sum(test)/ len(test))\n"
   ]
  },
  {
   "cell_type": "code",
   "execution_count": 13,
   "metadata": {},
   "outputs": [
    {
     "name": "stdout",
     "output_type": "stream",
     "text": [
      "English Average: 76.2\n",
      "Math Average: 84.8\n"
     ]
    }
   ],
   "source": [
    "test=[[75,90,66,100,50],[80,92,78,90,84]]\n",
    "\n",
    "english= test[0]\n",
    "math = test[1]\n",
    "\n",
    "print(\"English Average:\",sum(english)/len(english))\n",
    "print(\"Math Average:\",sum(math)/len(math))"
   ]
  },
  {
   "cell_type": "code",
   "execution_count": 14,
   "metadata": {},
   "outputs": [
    {
     "name": "stdout",
     "output_type": "stream",
     "text": [
      "Let's make a shooping list!\n",
      "Exit is \"quit\"\n",
      "Please enter what you want :hihih\n",
      "1 hihih\n",
      "Please enter what you want :hihih\n",
      "1 hihih\n",
      "2 hihih\n",
      "Please enter what you want :da\n",
      "1 da\n",
      "2 hihih\n",
      "3 hihih\n",
      "Please enter what you want :quit\n"
     ]
    }
   ],
   "source": [
    "slist=[]\n",
    "\n",
    "print(\"Let's make a shooping list!\")\n",
    "print(\"Exit is \\\"quit\\\"\")\n",
    "\n",
    "st= input(\"Please enter what you want :\")\n",
    "while st!=\"quit\":\n",
    "    slist.append(st)\n",
    "    slist.sort()\n",
    "\n",
    "    for i in range(1,len(slist)+1):\n",
    "        print(i, slist[i-1])\n",
    "    \n",
    "    st= input(\"Please enter what you want :\")"
   ]
  },
  {
   "cell_type": "code",
   "execution_count": 16,
   "metadata": {},
   "outputs": [
    {
     "name": "stdout",
     "output_type": "stream",
     "text": [
      "('a', 'p', 'p', 'l', 'e', 1, 2, 3)\n",
      "(('a', 'p', 'p', 'l', 'e'), (1, 2, 3))\n"
     ]
    }
   ],
   "source": [
    "tu=(\"apple\",[7,5,6],(1,2,3))\n",
    "out1=tuple(tu[0])\n",
    "out2=tuple(tu[2])\n",
    "\n",
    "tu2=out1+out2\n",
    "tu3=(out1, out2)\n",
    "\n",
    "print(tu2)\n",
    "print(tu3)"
   ]
  },
  {
   "cell_type": "code",
   "execution_count": 19,
   "metadata": {},
   "outputs": [
    {
     "name": "stdout",
     "output_type": "stream",
     "text": [
      "Welcome to a Tuple Example\n",
      "Wen you press Enter, wee will shake2\n"
     ]
    },
    {
     "ename": "TypeError",
     "evalue": "tuple indices must be integers or slices, not str",
     "output_type": "error",
     "traceback": [
      "\u001b[1;31m---------------------------------------------------------------------------\u001b[0m",
      "\u001b[1;31mTypeError\u001b[0m                                 Traceback (most recent call last)",
      "\u001b[1;32m<ipython-input-19-b8a747d5309e>\u001b[0m in \u001b[0;36m<module>\u001b[1;34m\u001b[0m\n\u001b[0;32m     15\u001b[0m \u001b[0ma\u001b[0m\u001b[1;33m=\u001b[0m\u001b[0mrandom\u001b[0m\u001b[1;33m.\u001b[0m\u001b[0mrandint\u001b[0m\u001b[1;33m(\u001b[0m\u001b[1;36m0\u001b[0m\u001b[1;33m,\u001b[0m\u001b[1;36m7\u001b[0m\u001b[1;33m)\u001b[0m\u001b[1;33m\u001b[0m\u001b[1;33m\u001b[0m\u001b[0m\n\u001b[0;32m     16\u001b[0m \u001b[1;33m\u001b[0m\u001b[0m\n\u001b[1;32m---> 17\u001b[1;33m \u001b[0mprint\u001b[0m\u001b[1;33m(\u001b[0m\u001b[0manswer\u001b[0m\u001b[1;33m[\u001b[0m\u001b[0mq\u001b[0m\u001b[1;33m]\u001b[0m\u001b[1;33m)\u001b[0m\u001b[1;33m\u001b[0m\u001b[1;33m\u001b[0m\u001b[0m\n\u001b[0m\u001b[0;32m     18\u001b[0m \u001b[1;33m\u001b[0m\u001b[0m\n",
      "\u001b[1;31mTypeError\u001b[0m: tuple indices must be integers or slices, not str"
     ]
    }
   ],
   "source": []
  }
 ],
 "metadata": {
  "kernelspec": {
   "display_name": "Python 3",
   "language": "python",
   "name": "python3"
  },
  "language_info": {
   "codemirror_mode": {
    "name": "ipython",
    "version": 3
   },
   "file_extension": ".py",
   "mimetype": "text/x-python",
   "name": "python",
   "nbconvert_exporter": "python",
   "pygments_lexer": "ipython3",
   "version": "3.7.4"
  }
 },
 "nbformat": 4,
 "nbformat_minor": 2
}
