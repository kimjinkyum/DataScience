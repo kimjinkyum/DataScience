{
 "cells": [
  {
   "cell_type": "code",
   "execution_count": 1,
   "metadata": {},
   "outputs": [
    {
     "name": "stdout",
     "output_type": "stream",
     "text": [
      "[-9, -6, -5, -3, -1, 0, 2, 7, 11, 15, 28, 40]\n"
     ]
    }
   ],
   "source": [
    "#1\n",
    "\n",
    "bubble=[-9,15,-6,28,40,-3,2,0,-5,11,7,-1]\n",
    "\n",
    "def bubble_sort(list):\n",
    "    l=len(bubble)\n",
    "    for i in range(l,0,-1):\n",
    "        for j in range(i-1):\n",
    "            if list[j]>list[j+1]:\n",
    "                list[j],list[j+1]=list[j+1],list[j]\n",
    "    return list\n",
    "\n",
    "print(bubble_sort(bubble.copy()))\n"
   ]
  },
  {
   "cell_type": "code",
   "execution_count": 17,
   "metadata": {
    "scrolled": true
   },
   "outputs": [
    {
     "name": "stdout",
     "output_type": "stream",
     "text": [
      "gachon university\n",
      "\n",
      "gachon university\n",
      "software\n",
      "python\n",
      "BIg data\n",
      "\n",
      "gacho\n",
      "gachon uni\n",
      "we\n",
      "are\n",
      "in\n",
      "2019\n",
      "\n"
     ]
    }
   ],
   "source": [
    "f=open(\"../data/py_test.txt\",\"r\")\n",
    "print(f.readline())\n",
    "f.close()\n",
    "\n",
    "\n",
    "f=open(\"../data/py_test.txt\",\"r\")\n",
    "print(f.read())\n",
    "f.close()\n",
    "\n",
    "\n",
    "f=open(\"../data/py_test.txt\",\"r\")\n",
    "print(f.read(5))\n",
    "f.close()\n",
    "\n",
    "\n",
    "f=open(\"../data/py_test.txt\",\"r\")\n",
    "print(f.read(10))\n",
    "f.close()\n",
    "\n",
    "f=open(\"../data/py_test.txt\",\"a\")\n",
    "f.write(\"React\")\n",
    "f.close()\n",
    "\n",
    "\n",
    "\n",
    "f=open(\"../data/f1.txt\",\"w\")\n",
    "f.write(\"we\\n\")\n",
    "f.write(\"are\\n\")\n",
    "f.write(\"in\\n\")\n",
    "f.write(\"2019\\n\")\n",
    "f.close()\n",
    "\n",
    "f=open(\"../data/f1.txt\",\"r\")\n",
    "print(f.read())\n",
    "f.close()\n",
    "\n",
    "\n",
    "\n"
   ]
  },
  {
   "cell_type": "code",
   "execution_count": 19,
   "metadata": {},
   "outputs": [
    {
     "name": "stdout",
     "output_type": "stream",
     "text": [
      "line= 4 char 15\n"
     ]
    }
   ],
   "source": [
    "f=open(\"../data/f1.txt\",\"r\")\n",
    "w=open(\"../data/f2.txt\",\"w\")\n",
    "c_line=0\n",
    "c_char=0\n",
    "\n",
    "for line in f:\n",
    "    c_line+=1\n",
    "    c_char+=len(line)\n",
    "    w.write(line)\n",
    "print(\"line=\",c_line,\"char\",c_char)\n",
    "f.close()\n",
    "w.close()\n"
   ]
  },
  {
   "cell_type": "code",
   "execution_count": null,
   "metadata": {},
   "outputs": [],
   "source": [
    "import pickle\n",
    "\n",
    "f=open(\"../data/f3.dat\",\"wb\")\n",
    "a=eval(input(\"insert integer\"))\n",
    "\n",
    "while a!=0:\n",
    "    pickle.dump(a,f)\n",
    "    a=eval(input(\"insert integer\"))\n",
    "f.close()\n",
    "\n",
    "w=open(\"../data/f3.dat\",\"rb\")\n",
    "\n",
    "end_of_file=False\n",
    "while not end_of_file:\n",
    "    try:\n",
    "        print(pickle.load(w),end=\"\")\n",
    "    except EOFError:\n",
    "        end_of_file=True\n",
    "w.close()\n"
   ]
  },
  {
   "cell_type": "code",
   "execution_count": 15,
   "metadata": {},
   "outputs": [
    {
     "name": "stdout",
     "output_type": "stream",
     "text": [
      "original text abcdfzdes kkkyx\n",
      "Enter cyper number1\n",
      "cyter  bcdegaeft!lllzy\n"
     ]
    }
   ],
   "source": [
    "def caesar(s,k):\n",
    "    ans=\"\"\n",
    "    for i in s:\n",
    "        if(ord(i)+k)>122:\n",
    "            ans+=chr(ord(i)+k-26)\n",
    "        elif i==\"\": \n",
    "            ans=\"\"\n",
    "        else: \n",
    "            ans+=chr(ord(i)+k)\n",
    "    return ans\n",
    "\n",
    "f=open(\"../data/original.txt\",\"r\")\n",
    "st=f.read()\n",
    "\n",
    "print(\"original text \"+st)\n",
    "key=int(input(\"Enter cyper number\"))\n",
    "\n",
    "st2=caesar(st,key)\n",
    "print(\"cyter \",st2)\n",
    "f.close()\n",
    "f=open(\"../data/cyper.text\",\"w\")\n",
    "f.write(st2)\n",
    "f.close()\n"
   ]
  }
 ],
 "metadata": {
  "kernelspec": {
   "display_name": "Python 3",
   "language": "python",
   "name": "python3"
  },
  "language_info": {
   "codemirror_mode": {
    "name": "ipython",
    "version": 3
   },
   "file_extension": ".py",
   "mimetype": "text/x-python",
   "name": "python",
   "nbconvert_exporter": "python",
   "pygments_lexer": "ipython3",
   "version": "3.7.4"
  }
 },
 "nbformat": 4,
 "nbformat_minor": 2
}
