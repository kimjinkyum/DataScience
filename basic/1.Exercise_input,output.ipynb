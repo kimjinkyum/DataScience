{
 "cells": [
  {
   "cell_type": "code",
   "execution_count": 1,
   "metadata": {},
   "outputs": [
    {
     "name": "stdout",
     "output_type": "stream",
     "text": [
      "Please Enter the Radius of a Cylinder5\n",
      "Please Enter the Height of a Cylinder7\n",
      "The Surface area of a Cylinder=376.8\n",
      "The Volume of a Cylinder=549.5\n"
     ]
    }
   ],
   "source": [
    "# Exercise Enter a input / print output\n",
    "\n",
    "#Compute the volume and surface area a circular cylinder\n",
    "import math\n",
    "#ex1\n",
    "r=float(input(\"Please Enter the Radius of a Cylinder\"))\n",
    "h=float(input(\"Please Enter the Height of a Cylinder\"))\n",
    "\n",
    "surface=(r*r*2*3.14)+(2*r*3.14*h)\n",
    "volume=r**2*h*3.14\n",
    "\n",
    "print(\"The Surface area of a Cylinder={}\" .format(surface))\n",
    "print(\"The Volume of a Cylinder={}\" .format(volume))\n",
    "\n"
   ]
  },
  {
   "cell_type": "code",
   "execution_count": 2,
   "metadata": {},
   "outputs": [
    {
     "name": "stdout",
     "output_type": "stream",
     "text": [
      "Please enter a tmeperature in F:12\n",
      "12.0F= -11.11111111111111C\n"
     ]
    }
   ],
   "source": [
    "#Write a program to convert a temperature given in Fahrenheit to its equivalent in Celsius. \n",
    "\n",
    "f=float(input(\"Please enter a tmeperature in F:\"))\n",
    "c=(5/9)*(f-32)\n",
    "print(\"{}F= {}C\" .format(f,c))"
   ]
  },
  {
   "cell_type": "code",
   "execution_count": 3,
   "metadata": {},
   "outputs": [
    {
     "name": "stdout",
     "output_type": "stream",
     "text": [
      "\n",
      "Enter the first side of triangle: 4\n",
      "Enter the second side of triangle: 6\n",
      "Enter the third side of triangle: 8\n",
      "The perimeter of triangle =  18.0\n",
      "The Semi perimeter of triangle =  9.0\n",
      "The Area of triangle is  11.61895003862225\n"
     ]
    }
   ],
   "source": [
    "#Write a program to find the area and perimeter of a triangle\n",
    "print()\n",
    "a=float(input(\"Enter the first side of triangle: \"))\n",
    "b=float(input(\"Enter the second side of triangle: \"))\n",
    "c=float(input(\"Enter the third side of triangle: \"))\n",
    "\n",
    "per1=a+b+c\n",
    "per2=per1/2\n",
    "area=math.sqrt(per2*(per2-a)*(per2-b)*(per2-c))\n",
    "print(\"The perimeter of triangle = \", per1)\n",
    "print(\"The Semi perimeter of triangle = \", per2)\n",
    "print(\"The Area of triangle is \", area)"
   ]
  },
  {
   "cell_type": "code",
   "execution_count": 4,
   "metadata": {},
   "outputs": [
    {
     "name": "stdout",
     "output_type": "stream",
     "text": [
      "Enter a sales amount: 12\n",
      "Enter a actual cost: 80\n",
      "Total Loss Amount =  68.0\n"
     ]
    }
   ],
   "source": [
    "#Write a program that calculates profit or loss.\n",
    "sale=float(input(\"Enter a sales amount: \"))\n",
    "cost=float(input(\"Enter a actual cost: \"))\n",
    "\n",
    "if sale>cost:\n",
    "    profit=sale-cost\n",
    "    print(\"Total Profit= \", profit)\n",
    "elif sale<cost:\n",
    "    loss=cost-sale\n",
    "    print(\"Total Loss Amount = \",loss)\n",
    "else:\n",
    "    print(\"No profit No Loss!!\")"
   ]
  },
  {
   "cell_type": "code",
   "execution_count": 5,
   "metadata": {},
   "outputs": [
    {
     "name": "stdout",
     "output_type": "stream",
     "text": [
      "Enter first angle of triangle: 60\n",
      "Enter second angle of triangle: 70\n",
      "Enter third angle of triangle: 50\n",
      "This is a valid tringle\n"
     ]
    }
   ],
   "source": [
    "#Write a program that checks if a triangle is valid or not.\n",
    "a1=float(input(\"Enter first angle of triangle: \"))\n",
    "a2=float(input(\"Enter second angle of triangle: \"))\n",
    "a3=float(input(\"Enter third angle of triangle: \"))\n",
    "\n",
    "sum=a1+a2+a3\n",
    "if sum==180:\n",
    "    print(\"This is a valid tringle\")\n",
    "else:\n",
    "    print(\"This is an invalid triangle\")\n"
   ]
  },
  {
   "cell_type": "code",
   "execution_count": 6,
   "metadata": {},
   "outputs": [
    {
     "name": "stdout",
     "output_type": "stream",
     "text": [
      "Enter first score85\n",
      "Enter second score65\n",
      "Enter third score70\n",
      "Enter forthscore85\n",
      "Enter fifth score100\n",
      "Average= 81.0\n",
      "B\n"
     ]
    }
   ],
   "source": [
    "#Write a program that reads the scores of 5 subjects and displays the grade.\n",
    "\n",
    "a=int(input(\"Enter first score\"))\n",
    "b=int(input(\"Enter second score\"))\n",
    "c=int(input(\"Enter third score\"))\n",
    "d=int(input(\"Enter forthscore\"))\n",
    "e=int(input(\"Enter fifth score\"))\n",
    "\n",
    "avg=(a+b+c+d+e)/5\n",
    "print(\"Average= {}\" .format(avg))\n",
    "if avg>=90:\n",
    "    print(\"A\")\n",
    "elif avg>=80:\n",
    "    print(\"B\")\n",
    "elif avg>=70:\n",
    "    print(\"C\")\n",
    "elif avg>=60:\n",
    "    print(\"D\")\n",
    "else:\n",
    "    print(\"F\")\n"
   ]
  },
  {
   "cell_type": "code",
   "execution_count": null,
   "metadata": {},
   "outputs": [],
   "source": []
  },
  {
   "cell_type": "code",
   "execution_count": null,
   "metadata": {},
   "outputs": [],
   "source": []
  },
  {
   "cell_type": "code",
   "execution_count": null,
   "metadata": {},
   "outputs": [],
   "source": []
  }
 ],
 "metadata": {
  "kernelspec": {
   "display_name": "Python 3",
   "language": "python",
   "name": "python3"
  },
  "language_info": {
   "codemirror_mode": {
    "name": "ipython",
    "version": 3
   },
   "file_extension": ".py",
   "mimetype": "text/x-python",
   "name": "python",
   "nbconvert_exporter": "python",
   "pygments_lexer": "ipython3",
   "version": "3.7.4"
  }
 },
 "nbformat": 4,
 "nbformat_minor": 2
}
