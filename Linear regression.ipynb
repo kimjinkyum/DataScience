{
 "cells": [
  {
   "cell_type": "code",
   "execution_count": 3,
   "metadata": {},
   "outputs": [],
   "source": [
    "# Linear regression\n",
    "\n",
    "import numpy as np\n",
    "import matplotlib.pyplot as plt"
   ]
  },
  {
   "cell_type": "code",
   "execution_count": 4,
   "metadata": {},
   "outputs": [],
   "source": [
    "height=np.array([163, 177, 179, 168, 174, 176, 162, 172, 155, 157,\n",
    "                 179, 155, 178, 165, 179, 163, 168, 170, 161, 167,\n",
    "                 165, 183, 172, 175, 160, 189, 167, 170, 163, 160,\n",
    "                 178, 177, 175, 171, 163, 169, 165, 181, 175, 170,\n",
    "                 181, 177, 172, 168, 160, 175, 173, 158, 158, 158,\n",
    "                 175,160])\n",
    "\n",
    "weight=np.array([48, 66, 70, 63, 60, 70, 49, 70, 45, 66,\n",
    "                 70, 56, 70, 44, 55, 49, 58, 72, 45, 57,\n",
    "                 48, 90, 72, 73, 50, 75, 55, 72, 54, 48,\n",
    "                 64, 70, 79, 76, 60, 84, 57, 69, 66, 75,\n",
    "                 72, 64, 71, 45, 55, 58, 73, 49, 47, 50,\n",
    "                 79,56])\n"
   ]
  },
  {
   "cell_type": "code",
   "execution_count": 5,
   "metadata": {},
   "outputs": [],
   "source": [
    "x=np.vstack([height,np.ones(len(height))]).T\n",
    "b,a= np.linalg.lstsq(x, weight, rcond=None)[0]\n"
   ]
  },
  {
   "cell_type": "code",
   "execution_count": 7,
   "metadata": {},
   "outputs": [
    {
     "name": "stdout",
     "output_type": "stream",
     "text": [
      "X =  [163 177 179 168 174 176 162 172 155 157 179 155 178 165 179 163 168 170\n",
      " 161 167 165 183 172 175 160 189 167 170 163 160 178 177 175 171 163 169\n",
      " 165 181 175 170 181 177 172 168 160 175 173 158 158 158 175 160]\n",
      "Y =  [48 66 70 63 60 70 49 70 45 66 70 56 70 44 55 49 58 72 45 57 48 90 72 73\n",
      " 50 75 55 72 54 48 64 70 79 76 60 84 57 69 66 75 72 64 71 45 55 58 73 49\n",
      " 47 50 79 56]\n",
      "Linear regression (y = Bx+A)\n",
      "B = 0.9936331532436127, A = -106.07503294672047\n"
     ]
    }
   ],
   "source": [
    "print(\"X = \",height)\n",
    "print(\"Y = \", weight)\n",
    "print(\"Linear regression (y = Bx+A)\")\n",
    "print(\"B = {0}, A = {1}\".format(b,a))"
   ]
  },
  {
   "cell_type": "code",
   "execution_count": 9,
   "metadata": {},
   "outputs": [],
   "source": [
    "height_min=height.min()\n",
    "y_max=np.max(height)*b+a\n",
    "y_min=np.min(height)*b+a"
   ]
  },
  {
   "cell_type": "code",
   "execution_count": 10,
   "metadata": {},
   "outputs": [
    {
     "data": {
      "image/png": "[encoded data removed]",
      "text/plain": [
       "<Figure size 432x288 with 1 Axes>"
      ]
     },
     "metadata": {
      "needs_background": "light"
     },
     "output_type": "display_data"
    }
   ],
   "source": [
    "plt.scatter(height, weight)\n",
    "plt.xlabel(\"height\")\n",
    "plt.ylabel(\"weight\")\n",
    "line=plt.plot([np.min(height),np.max(height)],[y_min,y_max])\n",
    "plt.setp(line,color=\"r\")\n",
    "plt.show()"
   ]
  }
 ],
 "metadata": {
  "kernelspec": {
   "display_name": "Python 3",
   "language": "python",
   "name": "python3"
  },
  "language_info": {
   "codemirror_mode": {
    "name": "ipython",
    "version": 3
   },
   "file_extension": ".py",
   "mimetype": "text/x-python",
   "name": "python",
   "nbconvert_exporter": "python",
   "pygments_lexer": "ipython3",
   "version": "3.7.4"
  }
 },
 "nbformat": 4,
 "nbformat_minor": 2
}
