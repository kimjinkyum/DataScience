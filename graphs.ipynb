{
 "cells": [
  {
   "cell_type": "code",
   "execution_count": 1,
   "metadata": {},
   "outputs": [],
   "source": [
    "#Draw graph\n",
    "# box plot, pie chart\n",
    "import numpy as np\n",
    "import matplotlib.pyplot as plt\n",
    "\n"
   ]
  },
  {
   "cell_type": "code",
   "execution_count": 2,
   "metadata": {},
   "outputs": [
    {
     "name": "stdout",
     "output_type": "stream",
     "text": [
      "first group [163 177 179 168 174 176 162 172 155 157 179 155 178 165 179 163 168 170\n",
      " 161 167 165 183 172 175 160 189]\n",
      "second group [167 170 163 160 178 177 175 171 163 169 165 181 175 170 181 177 172 168\n",
      " 160 175 173 158 158 158 175 160]\n"
     ]
    }
   ],
   "source": [
    "humidity = np.array([163, 177, 179, 168, 174, 176, 162, 172, 155, 157,\n",
    "                 179, 155, 178, 165, 179, 163, 168, 170, 161, 167,\n",
    "                 165, 183, 172, 175, 160, 189, 167, 170, 163, 160,\n",
    "                 178, 177, 175, 171, 163, 169, 165, 181, 175, 170,\n",
    "                 181, 177, 172, 168, 160, 175, 173, 158, 158, 158,\n",
    "                 175,160])\n",
    "\n",
    "split=int(humidity.size/2)\n",
    "\n",
    "height1=humidity[:split]\n",
    "height2=humidity[split:]\n",
    "\n",
    "print(\"first group\",height1)\n",
    "print(\"second group\",height2)\n",
    "\n"
   ]
  },
  {
   "cell_type": "code",
   "execution_count": 3,
   "metadata": {},
   "outputs": [
    {
     "name": "stdout",
     "output_type": "stream",
     "text": [
      "\n",
      "\n",
      "\n",
      "The first group \n",
      " mean is 169.69230769230768\n",
      " variance is 76.8284023668639 \n",
      " standard deviation is 8.765181251227148\n",
      "\n",
      "\n",
      "The second group \n",
      " mean is 169.19230769230768\n",
      " variance is 52.69378698224852\n",
      " standard deviation is 7.25904862790218\n"
     ]
    }
   ],
   "source": [
    "mean1=np.mean(height1)\n",
    "mean2=np.mean(height2)\n",
    "\n",
    "var1=np.var(height1)\n",
    "var2=np.var(height2)\n",
    "\n",
    "std1=np.std(height1)\n",
    "std2=np.std(height2)\n",
    "\n",
    "print(\"\\n\\n\\nThe first group \\n mean is {0}\\n variance is {1} \\n standard deviation is {2}\\n\\n\".format(mean1,var1,std1))\n",
    "print(\"The second group \\n mean is {0}\\n variance is {1}\\n standard deviation is {2}\".format(mean2,var2,std2))\n"
   ]
  },
  {
   "cell_type": "code",
   "execution_count": 4,
   "metadata": {},
   "outputs": [
    {
     "data": {
      "image/png": "[encoded data removed]",
      "text/plain": [
       "<Figure size 432x288 with 1 Axes>"
      ]
     },
     "metadata": {
      "needs_background": "light"
     },
     "output_type": "display_data"
    }
   ],
   "source": [
    "plotData=[height1, height2]\n",
    "plt.boxplot(plotData)\n",
    "plt.show()"
   ]
  },
  {
   "cell_type": "code",
   "execution_count": 5,
   "metadata": {},
   "outputs": [
    {
     "name": "stdout",
     "output_type": "stream",
     "text": [
      "Generate 10,000 random integers\n",
      "\n",
      "\n",
      "\n"
     ]
    }
   ],
   "source": [
    "frequency=np.zeros(10)\n",
    "print(\"Generate 10,000 random integers\\n\\n\\n\")\n",
    "a=np.random.randint(0,10,10000) "
   ]
  },
  {
   "cell_type": "code",
   "execution_count": 6,
   "metadata": {},
   "outputs": [
    {
     "name": "stdout",
     "output_type": "stream",
     "text": [
      "occurrence of 0 is 971.0\n",
      "occurrence of 1 is 967.0\n",
      "occurrence of 2 is 1000.0\n",
      "occurrence of 3 is 994.0\n",
      "occurrence of 4 is 1013.0\n",
      "occurrence of 5 is 1024.0\n",
      "occurrence of 6 is 1021.0\n",
      "occurrence of 7 is 1033.0\n",
      "occurrence of 8 is 1012.0\n",
      "occurrence of 9 is 965.0\n",
      "[4 8 8 ... 6 7 1]\n"
     ]
    }
   ],
   "source": [
    "for i in a:\n",
    "    frequency[i]+=1\n",
    "\n",
    "for i in range(10):\n",
    "    print(\"occurrence of {0} is {1}\".format(i,frequency[i]))\n",
    "\n",
    "print(a)\n"
   ]
  },
  {
   "cell_type": "code",
   "execution_count": 7,
   "metadata": {},
   "outputs": [
    {
     "data": {
      "image/png": "[encoded data removed]",
      "text/plain": [
       "<Figure size 432x288 with 1 Axes>"
      ]
     },
     "metadata": {},
     "output_type": "display_data"
    }
   ],
   "source": [
    "lan=np.arange(10)\n",
    "\n",
    "plt.pie(frequency,labels=lan,autopct=\"%1.2f%%\")\n",
    "plt.show()\n"
   ]
  }
 ],
 "metadata": {
  "kernelspec": {
   "display_name": "Python 3",
   "language": "python",
   "name": "python3"
  },
  "language_info": {
   "codemirror_mode": {
    "name": "ipython",
    "version": 3
   },
   "file_extension": ".py",
   "mimetype": "text/x-python",
   "name": "python",
   "nbconvert_exporter": "python",
   "pygments_lexer": "ipython3",
   "version": "3.7.4"
  }
 },
 "nbformat": 4,
 "nbformat_minor": 2
}
